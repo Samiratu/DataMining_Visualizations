{
  "nbformat": 4,
  "nbformat_minor": 0,
  "metadata": {
    "colab": {
      "name": "assignment1.ipynb",
      "provenance": [],
      "collapsed_sections": [],
      "toc_visible": true,
      "authorship_tag": "ABX9TyNOG0y+31LZjhk35nUE6A9M",
      "include_colab_link": true
    },
    "kernelspec": {
      "display_name": "Python 3",
      "name": "python3"
    }
  },
  "cells": [
    {
      "cell_type": "markdown",
      "metadata": {
        "id": "view-in-github",
        "colab_type": "text"
      },
      "source": [
        "<a href=\"https://colab.research.google.com/github/Samiratu/DataMining_Visualizations/blob/main/assignment1.ipynb\" target=\"_parent\"><img src=\"https://colab.research.google.com/assets/colab-badge.svg\" alt=\"Open In Colab\"/></a>"
      ]
    },
    {
      "cell_type": "code",
      "metadata": {
        "id": "NieEpMQwckg8"
      },
      "source": [
        "import pandas as pd\n",
        "import numpy as np\n",
        "import seaborn as sns\n",
        "import matplotlib.pyplot as plt"
      ],
      "execution_count": null,
      "outputs": []
    },
    {
      "cell_type": "code",
      "metadata": {
        "colab": {
          "base_uri": "https://localhost:8080/"
        },
        "id": "bCG5gB55tDJj",
        "outputId": "92c0a198-9c0f-40bf-b2b6-58bed7f2c979"
      },
      "source": [
        "from google.colab import drive\n",
        "drive.mount('/content/drive')"
      ],
      "execution_count": null,
      "outputs": [
        {
          "output_type": "stream",
          "text": [
            "Drive already mounted at /content/drive; to attempt to forcibly remount, call drive.mount(\"/content/drive\", force_remount=True).\n"
          ],
          "name": "stdout"
        }
      ]
    },
    {
      "cell_type": "code",
      "metadata": {
        "colab": {
          "base_uri": "https://localhost:8080/",
          "height": 367
        },
        "id": "VON6nQBltFMo",
        "outputId": "8adf56c2-2fb9-4d54-a3d8-80bfeb59a6ee"
      },
      "source": [
        "df = pd.read_csv('/content/drive/My Drive/data_assign1_dm/College.csv')\n",
        "df.head()"
      ],
      "execution_count": null,
      "outputs": [
        {
          "output_type": "execute_result",
          "data": {
            "text/html": [
              "<div>\n",
              "<style scoped>\n",
              "    .dataframe tbody tr th:only-of-type {\n",
              "        vertical-align: middle;\n",
              "    }\n",
              "\n",
              "    .dataframe tbody tr th {\n",
              "        vertical-align: top;\n",
              "    }\n",
              "\n",
              "    .dataframe thead th {\n",
              "        text-align: right;\n",
              "    }\n",
              "</style>\n",
              "<table border=\"1\" class=\"dataframe\">\n",
              "  <thead>\n",
              "    <tr style=\"text-align: right;\">\n",
              "      <th></th>\n",
              "      <th>Unnamed: 0</th>\n",
              "      <th>Private</th>\n",
              "      <th>Apps</th>\n",
              "      <th>Accept</th>\n",
              "      <th>Enroll</th>\n",
              "      <th>Top10perc</th>\n",
              "      <th>Top25perc</th>\n",
              "      <th>F.Undergrad</th>\n",
              "      <th>P.Undergrad</th>\n",
              "      <th>Outstate</th>\n",
              "      <th>Room.Board</th>\n",
              "      <th>Books</th>\n",
              "      <th>Personal</th>\n",
              "      <th>PhD</th>\n",
              "      <th>Terminal</th>\n",
              "      <th>S.F.Ratio</th>\n",
              "      <th>perc.alumni</th>\n",
              "      <th>Expend</th>\n",
              "      <th>Grad.Rate</th>\n",
              "    </tr>\n",
              "  </thead>\n",
              "  <tbody>\n",
              "    <tr>\n",
              "      <th>0</th>\n",
              "      <td>Abilene Christian University</td>\n",
              "      <td>Yes</td>\n",
              "      <td>1660</td>\n",
              "      <td>1232</td>\n",
              "      <td>721</td>\n",
              "      <td>23</td>\n",
              "      <td>52</td>\n",
              "      <td>2885</td>\n",
              "      <td>537</td>\n",
              "      <td>7440</td>\n",
              "      <td>3300</td>\n",
              "      <td>450</td>\n",
              "      <td>2200</td>\n",
              "      <td>70</td>\n",
              "      <td>78</td>\n",
              "      <td>18.1</td>\n",
              "      <td>12</td>\n",
              "      <td>7041</td>\n",
              "      <td>60</td>\n",
              "    </tr>\n",
              "    <tr>\n",
              "      <th>1</th>\n",
              "      <td>Adelphi University</td>\n",
              "      <td>Yes</td>\n",
              "      <td>2186</td>\n",
              "      <td>1924</td>\n",
              "      <td>512</td>\n",
              "      <td>16</td>\n",
              "      <td>29</td>\n",
              "      <td>2683</td>\n",
              "      <td>1227</td>\n",
              "      <td>12280</td>\n",
              "      <td>6450</td>\n",
              "      <td>750</td>\n",
              "      <td>1500</td>\n",
              "      <td>29</td>\n",
              "      <td>30</td>\n",
              "      <td>12.2</td>\n",
              "      <td>16</td>\n",
              "      <td>10527</td>\n",
              "      <td>56</td>\n",
              "    </tr>\n",
              "    <tr>\n",
              "      <th>2</th>\n",
              "      <td>Adrian College</td>\n",
              "      <td>Yes</td>\n",
              "      <td>1428</td>\n",
              "      <td>1097</td>\n",
              "      <td>336</td>\n",
              "      <td>22</td>\n",
              "      <td>50</td>\n",
              "      <td>1036</td>\n",
              "      <td>99</td>\n",
              "      <td>11250</td>\n",
              "      <td>3750</td>\n",
              "      <td>400</td>\n",
              "      <td>1165</td>\n",
              "      <td>53</td>\n",
              "      <td>66</td>\n",
              "      <td>12.9</td>\n",
              "      <td>30</td>\n",
              "      <td>8735</td>\n",
              "      <td>54</td>\n",
              "    </tr>\n",
              "    <tr>\n",
              "      <th>3</th>\n",
              "      <td>Agnes Scott College</td>\n",
              "      <td>Yes</td>\n",
              "      <td>417</td>\n",
              "      <td>349</td>\n",
              "      <td>137</td>\n",
              "      <td>60</td>\n",
              "      <td>89</td>\n",
              "      <td>510</td>\n",
              "      <td>63</td>\n",
              "      <td>12960</td>\n",
              "      <td>5450</td>\n",
              "      <td>450</td>\n",
              "      <td>875</td>\n",
              "      <td>92</td>\n",
              "      <td>97</td>\n",
              "      <td>7.7</td>\n",
              "      <td>37</td>\n",
              "      <td>19016</td>\n",
              "      <td>59</td>\n",
              "    </tr>\n",
              "    <tr>\n",
              "      <th>4</th>\n",
              "      <td>Alaska Pacific University</td>\n",
              "      <td>Yes</td>\n",
              "      <td>193</td>\n",
              "      <td>146</td>\n",
              "      <td>55</td>\n",
              "      <td>16</td>\n",
              "      <td>44</td>\n",
              "      <td>249</td>\n",
              "      <td>869</td>\n",
              "      <td>7560</td>\n",
              "      <td>4120</td>\n",
              "      <td>800</td>\n",
              "      <td>1500</td>\n",
              "      <td>76</td>\n",
              "      <td>72</td>\n",
              "      <td>11.9</td>\n",
              "      <td>2</td>\n",
              "      <td>10922</td>\n",
              "      <td>15</td>\n",
              "    </tr>\n",
              "  </tbody>\n",
              "</table>\n",
              "</div>"
            ],
            "text/plain": [
              "                     Unnamed: 0 Private  Apps  ...  perc.alumni  Expend  Grad.Rate\n",
              "0  Abilene Christian University     Yes  1660  ...           12    7041         60\n",
              "1            Adelphi University     Yes  2186  ...           16   10527         56\n",
              "2                Adrian College     Yes  1428  ...           30    8735         54\n",
              "3           Agnes Scott College     Yes   417  ...           37   19016         59\n",
              "4     Alaska Pacific University     Yes   193  ...            2   10922         15\n",
              "\n",
              "[5 rows x 19 columns]"
            ]
          },
          "metadata": {
            "tags": []
          },
          "execution_count": 3
        }
      ]
    },
    {
      "cell_type": "markdown",
      "metadata": {
        "id": "2r14cOxfv_R1"
      },
      "source": [
        "Data Preprocessing"
      ]
    },
    {
      "cell_type": "code",
      "metadata": {
        "colab": {
          "base_uri": "https://localhost:8080/"
        },
        "id": "C6YBtAuXKn8l",
        "outputId": "d82ab05c-452f-4993-d9a5-706c7a7abc62"
      },
      "source": [
        "df.shape"
      ],
      "execution_count": null,
      "outputs": [
        {
          "output_type": "execute_result",
          "data": {
            "text/plain": [
              "(777, 19)"
            ]
          },
          "metadata": {
            "tags": []
          },
          "execution_count": 19
        }
      ]
    },
    {
      "cell_type": "code",
      "metadata": {
        "colab": {
          "base_uri": "https://localhost:8080/"
        },
        "id": "C6kxg0nbKytz",
        "outputId": "bbe84d9b-9854-452f-f061-ac2d2c52b96e"
      },
      "source": [
        "df.describe"
      ],
      "execution_count": null,
      "outputs": [
        {
          "output_type": "execute_result",
          "data": {
            "text/plain": [
              "<bound method NDFrame.describe of      university  Private   Apps  ...  perc_alumni  Expend  grad_rate\n",
              "0             0        1   1660  ...           12    7041         60\n",
              "1             1        1   2186  ...           16   10527         56\n",
              "2             2        1   1428  ...           30    8735         54\n",
              "3             3        1    417  ...           37   19016         59\n",
              "4             4        1    193  ...            2   10922         15\n",
              "..          ...      ...    ...  ...          ...     ...        ...\n",
              "772         772        0   2197  ...           14    4469         40\n",
              "773         773        1   1959  ...           31    9189         83\n",
              "774         774        1   2097  ...           20    8323         49\n",
              "775         775        1  10705  ...           49   40386         99\n",
              "776         776        1   2989  ...           28    4509         99\n",
              "\n",
              "[777 rows x 19 columns]>"
            ]
          },
          "metadata": {
            "tags": []
          },
          "execution_count": 20
        }
      ]
    },
    {
      "cell_type": "code",
      "metadata": {
        "id": "Hz4AeQ19wEeL"
      },
      "source": [
        "df.rename(columns = {\"Unnamed: 0\":\"university\", \"Room.Board\":\"room_board\", \"Grad.Rate\":\"grad_rate\", \"P.Undergrad\":\"p_undergrad\", \"F.Undergrad\":\"f_undergrad\",\"perc.alumni\":\"perc_alumni\", \"S.F.Ratio\":\"sf_ratio\"}, inplace=True)"
      ],
      "execution_count": null,
      "outputs": []
    },
    {
      "cell_type": "code",
      "metadata": {
        "colab": {
          "base_uri": "https://localhost:8080/"
        },
        "id": "fk81dheNuYR9",
        "outputId": "25d6ceb9-2e56-4fa9-e389-2186ef6b6e4e"
      },
      "source": [
        "missing_values = df.isnull().sum() * 100 / len(df)\n",
        "missing_value_df = pd.DataFrame({'column': df.columns,'percent_missing': missing_values})\n",
        "missing_value_df.sort_values('percent_missing', inplace=True)\n",
        "print(missing_value_df)"
      ],
      "execution_count": null,
      "outputs": [
        {
          "output_type": "stream",
          "text": [
            "                  column  percent_missing\n",
            "university    university              0.0\n",
            "perc_alumni  perc_alumni              0.0\n",
            "sf_ratio        sf_ratio              0.0\n",
            "Terminal        Terminal              0.0\n",
            "PhD                  PhD              0.0\n",
            "Personal        Personal              0.0\n",
            "Books              Books              0.0\n",
            "room_board    room_board              0.0\n",
            "Expend            Expend              0.0\n",
            "Outstate        Outstate              0.0\n",
            "f_undergrad  f_undergrad              0.0\n",
            "Top25perc      Top25perc              0.0\n",
            "Top10perc      Top10perc              0.0\n",
            "Enroll            Enroll              0.0\n",
            "Accept            Accept              0.0\n",
            "Apps                Apps              0.0\n",
            "Private          Private              0.0\n",
            "p_undergrad  p_undergrad              0.0\n",
            "grad_rate      grad_rate              0.0\n"
          ],
          "name": "stdout"
        }
      ]
    },
    {
      "cell_type": "markdown",
      "metadata": {
        "id": "-sTx7lWX0qmb"
      },
      "source": [
        "There are no missing values in our dataset"
      ]
    },
    {
      "cell_type": "markdown",
      "metadata": {
        "id": "rNOJF80l7qLR"
      },
      "source": [
        "## Encode the Private Column by replacing Yes with 1 and No with 0"
      ]
    },
    {
      "cell_type": "code",
      "metadata": {
        "id": "TL510KStBJ3K"
      },
      "source": [
        "df['Private'] = df['Private'].map({'Yes': 1, 'No': 0})"
      ],
      "execution_count": null,
      "outputs": []
    },
    {
      "cell_type": "markdown",
      "metadata": {
        "id": "E_V-nJntshjE"
      },
      "source": [
        "### Scatter Plots of Room and board costs vs Graduation rate colored by private school"
      ]
    },
    {
      "cell_type": "code",
      "metadata": {
        "colab": {
          "base_uri": "https://localhost:8080/",
          "height": 312
        },
        "id": "GQv7q2jJB_PW",
        "outputId": "48cc5cf5-ce27-461f-e870-47d8c111c88b"
      },
      "source": [
        "groups = df.groupby('Private')\n",
        "for name, group in groups:\n",
        "  plt.title(\"Grad Rate vs Room Board\")\n",
        "  plt.xlabel(\"Grad Rate\")\n",
        "  plt.ylabel(\"Room Board\")\n",
        "  plt.plot(group.grad_rate, group.room_board, marker='o', linestyle='', markersize=8, label=name)\n",
        "\n",
        "plt.legend()"
      ],
      "execution_count": null,
      "outputs": [
        {
          "output_type": "execute_result",
          "data": {
            "text/plain": [
              "<matplotlib.legend.Legend at 0x7f2b18995be0>"
            ]
          },
          "metadata": {
            "tags": []
          },
          "execution_count": 7
        },
        {
          "output_type": "display_data",
          "data": {
            "image/png": "[encoded data removed]",
            "text/plain": [
              "<Figure size 432x288 with 1 Axes>"
            ]
          },
          "metadata": {
            "tags": [],
            "needs_background": "light"
          }
        }
      ]
    },
    {
      "cell_type": "markdown",
      "metadata": {
        "id": "3Oo8sEhdENJE"
      },
      "source": [
        "From the plot above we can conclude that Private schools have a high graduation rate as well as cost of room and board."
      ]
    },
    {
      "cell_type": "markdown",
      "metadata": {
        "id": "AU6F6QMVs0Xz"
      },
      "source": [
        "### Scatter plot showing Fulltime Unergraduate vs Out-ot-state tuition  colored by private school"
      ]
    },
    {
      "cell_type": "code",
      "metadata": {
        "colab": {
          "base_uri": "https://localhost:8080/",
          "height": 312
        },
        "id": "pQUKapEO5oxA",
        "outputId": "6be103ab-60f6-44d1-fcf1-925eeef03d03"
      },
      "source": [
        "groups = df.groupby('Private')\n",
        "for name, group in groups:\n",
        "  plt.title(\"Full time Undergraduates vs Ou- of-State tuition\")\n",
        "  plt.xlabel(\"Full time undergraduate\")\n",
        "  plt.ylabel(\"Outsate\")\n",
        "  plt.plot(group.f_undergrad, group.Outstate, marker='o', linestyle='', markersize=8, label=name)\n",
        "\n",
        "plt.legend()"
      ],
      "execution_count": null,
      "outputs": [
        {
          "output_type": "execute_result",
          "data": {
            "text/plain": [
              "<matplotlib.legend.Legend at 0x7f2b18995ac8>"
            ]
          },
          "metadata": {
            "tags": []
          },
          "execution_count": 8
        },
        {
          "output_type": "display_data",
          "data": {
            "image/png": "[encoded data removed]",
            "text/plain": [
              "<Figure size 432x288 with 1 Axes>"
            ]
          },
          "metadata": {
            "tags": [],
            "needs_background": "light"
          }
        }
      ]
    },
    {
      "cell_type": "markdown",
      "metadata": {
        "id": "-4RuNVs7GvTj"
      },
      "source": [
        "From the plot above I can conclude that private schoold have high out-of-stae tuition and fewer full -time undergraduates"
      ]
    },
    {
      "cell_type": "markdown",
      "metadata": {
        "id": "yxkNMkcEJTOU"
      },
      "source": [
        "### Distribution of Out-of-State Tuition based amon private and non-private institutions"
      ]
    },
    {
      "cell_type": "code",
      "metadata": {
        "colab": {
          "base_uri": "https://localhost:8080/",
          "height": 386
        },
        "id": "xCqRZfAvGDiM",
        "outputId": "2725e073-3477-4708-be11-db3e4d8b8898"
      },
      "source": [
        "\n",
        "sns.displot(df, x=\"Outstate\", hue=\"Private\", multiple=\"stack\")\n",
        "\n"
      ],
      "execution_count": null,
      "outputs": [
        {
          "output_type": "execute_result",
          "data": {
            "text/plain": [
              "<seaborn.axisgrid.FacetGrid at 0x7f2b18c16c18>"
            ]
          },
          "metadata": {
            "tags": []
          },
          "execution_count": 9
        },
        {
          "output_type": "display_data",
          "data": {
            "image/png": "[encoded data removed]",
            "text/plain": [
              "<Figure size 402.875x360 with 1 Axes>"
            ]
          },
          "metadata": {
            "tags": [],
            "needs_background": "light"
          }
        }
      ]
    },
    {
      "cell_type": "markdown",
      "metadata": {
        "id": "_InDIdL3K_LK"
      },
      "source": [
        "From the plot above we can see that private schools have a high Out-of- state tuition"
      ]
    },
    {
      "cell_type": "markdown",
      "metadata": {
        "id": "dLOKW4oetiu-"
      },
      "source": [
        "### Distribution of graduation rate among private and non-private institutions"
      ]
    },
    {
      "cell_type": "code",
      "metadata": {
        "colab": {
          "base_uri": "https://localhost:8080/",
          "height": 386
        },
        "id": "TG2zS2P-JQ1J",
        "outputId": "2b6d7201-e56e-4acd-86c4-24e7f08d6a91"
      },
      "source": [
        "sns.displot(df, x=\"grad_rate\", hue=\"Private\", multiple=\"stack\")"
      ],
      "execution_count": null,
      "outputs": [
        {
          "output_type": "execute_result",
          "data": {
            "text/plain": [
              "<seaborn.axisgrid.FacetGrid at 0x7f2b0f2c41d0>"
            ]
          },
          "metadata": {
            "tags": []
          },
          "execution_count": 10
        },
        {
          "output_type": "display_data",
          "data": {
            "image/png": "[encoded data removed]",
            "text/plain": [
              "<Figure size 402.875x360 with 1 Axes>"
            ]
          },
          "metadata": {
            "tags": [],
            "needs_background": "light"
          }
        }
      ]
    },
    {
      "cell_type": "markdown",
      "metadata": {
        "id": "4yn9A-o1rY3H"
      },
      "source": [
        "From the above we can wee that most private universities have a high graduation rate."
      ]
    },
    {
      "cell_type": "markdown",
      "metadata": {
        "id": "YozqqG1WrxGH"
      },
      "source": [
        "### Pivate University with graduation rate greater that 100 percent"
      ]
    },
    {
      "cell_type": "code",
      "metadata": {
        "colab": {
          "base_uri": "https://localhost:8080/",
          "height": 114
        },
        "id": "ZIBUS1YBpMAU",
        "outputId": "aa88605f-e5ff-4f83-d8b7-5e9ae60c2484"
      },
      "source": [
        "df[df[\"grad_rate\"]>100]"
      ],
      "execution_count": null,
      "outputs": [
        {
          "output_type": "execute_result",
          "data": {
            "text/html": [
              "<div>\n",
              "<style scoped>\n",
              "    .dataframe tbody tr th:only-of-type {\n",
              "        vertical-align: middle;\n",
              "    }\n",
              "\n",
              "    .dataframe tbody tr th {\n",
              "        vertical-align: top;\n",
              "    }\n",
              "\n",
              "    .dataframe thead th {\n",
              "        text-align: right;\n",
              "    }\n",
              "</style>\n",
              "<table border=\"1\" class=\"dataframe\">\n",
              "  <thead>\n",
              "    <tr style=\"text-align: right;\">\n",
              "      <th></th>\n",
              "      <th>university</th>\n",
              "      <th>Private</th>\n",
              "      <th>Apps</th>\n",
              "      <th>Accept</th>\n",
              "      <th>Enroll</th>\n",
              "      <th>Top10perc</th>\n",
              "      <th>Top25perc</th>\n",
              "      <th>f_undergrad</th>\n",
              "      <th>p_undergrad</th>\n",
              "      <th>Outstate</th>\n",
              "      <th>room_board</th>\n",
              "      <th>Books</th>\n",
              "      <th>Personal</th>\n",
              "      <th>PhD</th>\n",
              "      <th>Terminal</th>\n",
              "      <th>sf_ratio</th>\n",
              "      <th>perc_alumni</th>\n",
              "      <th>Expend</th>\n",
              "      <th>grad_rate</th>\n",
              "    </tr>\n",
              "  </thead>\n",
              "  <tbody>\n",
              "    <tr>\n",
              "      <th>95</th>\n",
              "      <td>Cazenovia College</td>\n",
              "      <td>1</td>\n",
              "      <td>3847</td>\n",
              "      <td>3433</td>\n",
              "      <td>527</td>\n",
              "      <td>9</td>\n",
              "      <td>35</td>\n",
              "      <td>1010</td>\n",
              "      <td>12</td>\n",
              "      <td>9384</td>\n",
              "      <td>4840</td>\n",
              "      <td>600</td>\n",
              "      <td>500</td>\n",
              "      <td>22</td>\n",
              "      <td>47</td>\n",
              "      <td>14.3</td>\n",
              "      <td>20</td>\n",
              "      <td>7697</td>\n",
              "      <td>118</td>\n",
              "    </tr>\n",
              "  </tbody>\n",
              "</table>\n",
              "</div>"
            ],
            "text/plain": [
              "           university  Private  Apps  ...  perc_alumni  Expend  grad_rate\n",
              "95  Cazenovia College        1  3847  ...           20    7697        118\n",
              "\n",
              "[1 rows x 19 columns]"
            ]
          },
          "metadata": {
            "tags": []
          },
          "execution_count": 11
        }
      ]
    },
    {
      "cell_type": "markdown",
      "metadata": {
        "id": "xQyEwz1YsAPk"
      },
      "source": [
        "### Cazenovia College has a graduation rate greater than 100 %. I will be sellint it below to 100% since pecentage can't be more that a hundred."
      ]
    },
    {
      "cell_type": "code",
      "metadata": {
        "id": "yFfJf4LmXT_t"
      },
      "source": [
        "df['grad_rate']['Cazenovia College'] = 100"
      ],
      "execution_count": null,
      "outputs": []
    },
    {
      "cell_type": "markdown",
      "metadata": {
        "id": "G-MMZ9AHKWc0"
      },
      "source": [
        "### Ecode University column since it is a string"
      ]
    },
    {
      "cell_type": "code",
      "metadata": {
        "id": "7Qzp8VzxCNef"
      },
      "source": [
        "# Import label encoder \n",
        "from sklearn import preprocessing \n",
        "  \n",
        "# label_encoder object knows how to understand word labels. \n",
        "label_encoder = preprocessing.LabelEncoder() \n",
        "  \n",
        "# Encode labels in column 'species'. \n",
        "df['university']= label_encoder.fit_transform(df['university']) "
      ],
      "execution_count": null,
      "outputs": []
    },
    {
      "cell_type": "markdown",
      "metadata": {
        "id": "fApswVZ4yYEe"
      },
      "source": [
        "# Agglomerative Clustering Classification technique."
      ]
    },
    {
      "cell_type": "code",
      "metadata": {
        "id": "lpVTiYih1jvT"
      },
      "source": [
        "# ImportAgglomerativeClustering from SciKit Learn.\n",
        "\n",
        "from sklearn.cluster import AgglomerativeClustering\n",
        "\n",
        "# Create an instance of aAgglomerativeClustering model with 2 clusters.\n",
        "model = AgglomerativeClustering(n_clusters=2)"
      ],
      "execution_count": null,
      "outputs": []
    },
    {
      "cell_type": "markdown",
      "metadata": {
        "id": "n3PXqwSYI1Fi"
      },
      "source": [
        "### Fit the model to all the data"
      ]
    },
    {
      "cell_type": "code",
      "metadata": {
        "id": "AZe3UHlG5Tqd",
        "colab": {
          "base_uri": "https://localhost:8080/"
        },
        "outputId": "4d492b26-9090-4904-aefe-a5452125b03b"
      },
      "source": [
        " # Fit the model to all the data except for the Private label.\n",
        "\n",
        "model.fit(df)"
      ],
      "execution_count": null,
      "outputs": [
        {
          "output_type": "execute_result",
          "data": {
            "text/plain": [
              "AgglomerativeClustering(affinity='euclidean', compute_full_tree='auto',\n",
              "                        connectivity=None, distance_threshold=None,\n",
              "                        linkage='ward', memory=None, n_clusters=2)"
            ]
          },
          "metadata": {
            "tags": []
          },
          "execution_count": 14
        }
      ]
    },
    {
      "cell_type": "markdown",
      "metadata": {
        "id": "CGQzM_gVJr3F"
      },
      "source": [
        "# Model Evaluation"
      ]
    },
    {
      "cell_type": "markdown",
      "metadata": {
        "id": "NKuybaBAIYgJ"
      },
      "source": [
        "### Confusion Matrix"
      ]
    },
    {
      "cell_type": "code",
      "metadata": {
        "id": "KxaZmEOB9iYe",
        "colab": {
          "base_uri": "https://localhost:8080/"
        },
        "outputId": "3f69b235-2d4b-46a6-ccad-97f465e74264"
      },
      "source": [
        "# Create a confusion matrix and classification report to see how well the Kmeans clustering worked without being given any labels.\n",
        "\n",
        "from sklearn.metrics import confusion_matrix, classification_report\n",
        "# print (confusion_matrix(df['Private'],model.labels_))\n",
        "cm = confusion_matrix(df['Private'],model.labels_)\n",
        "cm\n"
      ],
      "execution_count": null,
      "outputs": [
        {
          "output_type": "execute_result",
          "data": {
            "text/plain": [
              "array([[ 69, 143],\n",
              "       [553,  12]])"
            ]
          },
          "metadata": {
            "tags": []
          },
          "execution_count": 15
        }
      ]
    },
    {
      "cell_type": "code",
      "metadata": {
        "colab": {
          "base_uri": "https://localhost:8080/",
          "height": 294
        },
        "id": "sdtzN01TC80l",
        "outputId": "8546ab32-c9e0-438a-f5ba-fffeb7424fa5"
      },
      "source": [
        "ax= plt.subplot()\n",
        "sns.heatmap(cm, annot=True, ax = ax); #annot=True to annotate cells\n",
        "\n",
        "# labels, title and ticks\n",
        "ax.set_xlabel('Predicted labels');ax.set_ylabel('True labels'); \n",
        "ax.set_title('Confusion Matrix'); \n",
        "ax.xaxis.set_ticklabels(['Public', 'Private']); ax.yaxis.set_ticklabels(['Public', 'Private']);"
      ],
      "execution_count": null,
      "outputs": [
        {
          "output_type": "display_data",
          "data": {
            "image/png": "[encoded data removed]",
            "text/plain": [
              "<Figure size 432x288 with 2 Axes>"
            ]
          },
          "metadata": {
            "tags": [],
            "needs_background": "light"
          }
        }
      ]
    },
    {
      "cell_type": "markdown",
      "metadata": {
        "id": "QobpBwrHIfaM"
      },
      "source": [
        "### Classification Report"
      ]
    },
    {
      "cell_type": "code",
      "metadata": {
        "colab": {
          "base_uri": "https://localhost:8080/"
        },
        "id": "qhuRx__LCnz6",
        "outputId": "56927964-71df-4b9e-dcdc-dd5b6d505189"
      },
      "source": [
        "print(\"\\n\")\n",
        "print (classification_report(df['Private'],model.labels_))"
      ],
      "execution_count": null,
      "outputs": [
        {
          "output_type": "stream",
          "text": [
            "\n",
            "\n",
            "              precision    recall  f1-score   support\n",
            "\n",
            "           0       0.11      0.33      0.17       212\n",
            "           1       0.08      0.02      0.03       565\n",
            "\n",
            "    accuracy                           0.10       777\n",
            "   macro avg       0.09      0.17      0.10       777\n",
            "weighted avg       0.09      0.10      0.07       777\n",
            "\n"
          ],
          "name": "stdout"
        }
      ]
    }
  ]
}